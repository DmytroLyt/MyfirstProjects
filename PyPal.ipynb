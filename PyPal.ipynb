{
 "cells": [
  {
   "cell_type": "code",
   "execution_count": null,
   "id": "6bf7a727",
   "metadata": {},
   "outputs": [],
   "source": [
    "\n",
    "    # PyPal.ipynb
    "    # MyfirstProjects
    "
    "    # Created by Dmytro Lytvynenko 6/14/2022
    "    # This project was created to show ability to work with OOP and simple math functions
    "
    "    # Project was created with using Jupiter Notebook
    "
    "
    "    #For example we have login to bank account \"PyPal\", and we accept lower case or upper case input here\n",
    "    #also we have password, that user need to input for success access to his account, for example \"1903\"\n",
    "    #user will have 3 attempts to Sing in into his account, other way he will not have access to his bank account\n",
    "    \n",
    "\n",
    "login = \"PyPal\"\n",
    "password = '1903'\n",
    "attempt = ''\n",
    "attempt_count = 0\n",
    "attempt_limit = 3\n",
    "out_of_attempt = False\n",
    "attempt_password_count = 0\n",
    "attempt_password_limit = 3\n",
    "out_of_attempt_password = False\n",
    "while attempt != login.lower() and not out_of_attempt:\n",
    "    if attempt_count < attempt_limit:\n",
    "        attempt = input(\"Please, enter your login: \")\n",
    "        attempt_count += 1\n",
    "    else:\n",
    "        out_of_attempt = True\n",
    "if out_of_attempt:\n",
    "    print(\"Sorry, your login is incorrect, call to bank.\")\n",
    "else:\n",
    "    print(\"Correct login!\")\n",
    "    while attempt != password.lower() and not out_of_attempt_password:\n",
    "        if attempt_password_count < attempt_password_limit:\n",
    "            attempt = input(\"Please, enter your password: \")\n",
    "            attempt_password_count += 1\n",
    "        else:\n",
    "            out_of_attempt_password = True\n",
    "    if out_of_attempt_password:\n",
    "        print(\"Sorry, your password is incorrect, call to bank.\")\n",
    "    else:\n",
    "        print(\"Correct password!\")"
   ]
  },
  {
   "cell_type": "code",
   "execution_count": 10,
   "id": "d565df4f",
   "metadata": {},
   "outputs": [],
   "source": [
    "#Here we have bank accont where user trying to add to balance and then three times withdraw with over limit\n",
    "#that`s mean we need to show that user can`t withdraw over the limit and show it current balance\n",
    "class Account:\n",
    "    \n",
    "    def __init__(self,owner,balance):\n",
    "        \n",
    "        self.owner=owner\n",
    "        \n",
    "        self.balance=balance\n",
    "        \n",
    "    def add_to_balance(self,deposit):\n",
    "        \n",
    "        self.balance += deposit\n",
    "        \n",
    "        print(f\"Added {deposit} to the balance. Current balance {self.balance}.\")\n",
    "        \n",
    "    def withdraw_from_balance(self,withdraw):\n",
    "    \n",
    "        \n",
    "        if withdraw <=self.balance:\n",
    "            \n",
    "            self.balance -= withdraw\n",
    "            \n",
    "            print(f\"Withdraw accapted. Current balance {self.balance}.\")\n",
    "            \n",
    "        else:\n",
    "            \n",
    "            print(f\"Funds unavailable. Current balance {self.balance}.\")\n",
    "            \n",
    "    def __str__(self):\n",
    "        \n",
    "        return f\"Owner: {self.owner} \\nBalance: {self.balance}\"\n",
    "    "
   ]
  },
  {
   "cell_type": "code",
   "execution_count": 11,
   "id": "bb383673",
   "metadata": {},
   "outputs": [],
   "source": [
    "my_account = Account('Joe',1000)"
   ]
  },
  {
   "cell_type": "code",
   "execution_count": 12,
   "id": "6f036239",
   "metadata": {},
   "outputs": [
    {
     "name": "stdout",
     "output_type": "stream",
     "text": [
      "Owner: Joe \n",
      "Balance: 1000\n"
     ]
    }
   ],
   "source": [
    "print(my_account)"
   ]
  },
  {
   "cell_type": "code",
   "execution_count": 13,
   "id": "90615696",
   "metadata": {},
   "outputs": [
    {
     "data": {
      "text/plain": [
       "1000"
      ]
     },
     "execution_count": 13,
     "metadata": {},
     "output_type": "execute_result"
    }
   ],
   "source": [
    "my_account.balance"
   ]
  },
  {
   "cell_type": "code",
   "execution_count": 14,
   "id": "10813de5",
   "metadata": {},
   "outputs": [
    {
     "name": "stdout",
     "output_type": "stream",
     "text": [
      "Added 500 to the balance. Current balance 1500.\n"
     ]
    }
   ],
   "source": [
    "my_account.add_to_balance(500)"
   ]
  },
  {
   "cell_type": "code",
   "execution_count": 15,
   "id": "25d0d2e0",
   "metadata": {},
   "outputs": [
    {
     "name": "stdout",
     "output_type": "stream",
     "text": [
      "Withdraw accapted. Current balance 1425.\n"
     ]
    }
   ],
   "source": [
    "my_account.withdraw_from_balance(75)"
   ]
  },
  {
   "cell_type": "code",
   "execution_count": 16,
   "id": "5f242bb7",
   "metadata": {},
   "outputs": [
    {
     "name": "stdout",
     "output_type": "stream",
     "text": [
      "Withdraw accapted. Current balance 425.\n"
     ]
    }
   ],
   "source": [
    "my_account.withdraw_from_balance(1000)"
   ]
  }
 ],
 "metadata": {
  "kernelspec": {
   "display_name": "Python 3 (ipykernel)",
   "language": "python",
   "name": "python3"
  },
  "language_info": {
   "codemirror_mode": {
    "name": "ipython",
    "version": 3
   },
   "file_extension": ".py",
   "mimetype": "text/x-python",
   "name": "python",
   "nbconvert_exporter": "python",
   "pygments_lexer": "ipython3",
   "version": "3.9.12"
  }
 },
 "nbformat": 4,
 "nbformat_minor": 5
}
