{
 "cells": [
  {
   "cell_type": "code",
   "execution_count": 38,
   "id": "b7860954",
   "metadata": {},
   "outputs": [],
   "source": [
    "class Account:\n",
    "    \n",
    "    def __init__(self,owner,balance):\n",
    "        \n",
    "        self.owner=owner\n",
    "        \n",
    "        self.balance=balance\n",
    "        \n",
    "    def add_to_balance(self,deposit):\n",
    "        \n",
    "        self.balance += deposit\n",
    "        \n",
    "        print(f\"Added {deposit} to the balance. Current balance {self.balance}.\")\n",
    "        \n",
    "    def withdraw_from_balance(self,withdraw):\n",
    "    \n",
    "        \n",
    "        if withdraw <=self.balance:\n",
    "            \n",
    "            self.balance -= withdraw\n",
    "            \n",
    "            print(f\"Withdraw accapted. Current balance {self.balance}.\")\n",
    "            \n",
    "        else:\n",
    "            \n",
    "            print(f\"Funds unavailable. Current balance {self.balance}.\")\n",
    "            \n",
    "    def __str__(self):\n",
    "        \n",
    "        return f\"Owner: {self.owner} \\nBalance: {self.balance}\"\n",
    "    "
   ]
  },
  {
   "cell_type": "code",
   "execution_count": 39,
   "id": "e7ee3b94",
   "metadata": {},
   "outputs": [],
   "source": [
    "my_account = Account('Joe',1000)"
   ]
  },
  {
   "cell_type": "code",
   "execution_count": 40,
   "id": "0ab2a297",
   "metadata": {},
   "outputs": [
    {
     "name": "stdout",
     "output_type": "stream",
     "text": [
      "Owner: Joe \n",
      "Balance: 1000\n"
     ]
    }
   ],
   "source": [
    "print(my_account)"
   ]
  },
  {
   "cell_type": "code",
   "execution_count": 41,
   "id": "3b86364f",
   "metadata": {},
   "outputs": [
    {
     "data": {
      "text/plain": [
       "1000"
      ]
     },
     "execution_count": 41,
     "metadata": {},
     "output_type": "execute_result"
    }
   ],
   "source": [
    "my_account.balance"
   ]
  },
  {
   "cell_type": "code",
   "execution_count": 42,
   "id": "d006fbb6",
   "metadata": {},
   "outputs": [
    {
     "name": "stdout",
     "output_type": "stream",
     "text": [
      "Added 500 to the balance. Current balance 1500.\n"
     ]
    }
   ],
   "source": [
    "my_account.add_to_balance(500)"
   ]
  },
  {
   "cell_type": "code",
   "execution_count": 43,
   "id": "38eafb85",
   "metadata": {},
   "outputs": [
    {
     "name": "stdout",
     "output_type": "stream",
     "text": [
      "Withdraw accapted. Current balance 1425.\n"
     ]
    }
   ],
   "source": [
    "my_account.withdraw_from_balance(75)"
   ]
  },
  {
   "cell_type": "code",
   "execution_count": 44,
   "id": "31b7a7b9",
   "metadata": {},
   "outputs": [
    {
     "name": "stdout",
     "output_type": "stream",
     "text": [
      "Withdraw accapted. Current balance 425.\n"
     ]
    }
   ],
   "source": [
    "my_account.withdraw_from_balance(1000)"
   ]
  },
  {
   "cell_type": "code",
   "execution_count": 45,
   "id": "0e273bfb",
   "metadata": {},
   "outputs": [
    {
     "name": "stdout",
     "output_type": "stream",
     "text": [
      "Funds unavailable. Current balance 425.\n"
     ]
    }
   ],
   "source": [
    "my_account.withdraw_from_balance(500)"
   ]
  },
  {
   "cell_type": "code",
   "execution_count": null,
   "id": "7253515c",
   "metadata": {},
   "outputs": [],
   "source": []
  }
 ],
 "metadata": {
  "kernelspec": {
   "display_name": "Python 3 (ipykernel)",
   "language": "python",
   "name": "python3"
  },
  "language_info": {
   "codemirror_mode": {
    "name": "ipython",
    "version": 3
   },
   "file_extension": ".py",
   "mimetype": "text/x-python",
   "name": "python",
   "nbconvert_exporter": "python",
   "pygments_lexer": "ipython3",
   "version": "3.9.12"
  }
 },
 "nbformat": 4,
 "nbformat_minor": 5
}
